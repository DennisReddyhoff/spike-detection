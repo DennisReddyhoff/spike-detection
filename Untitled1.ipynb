{
 "cells": [
  {
   "cell_type": "code",
   "execution_count": 1,
   "id": "9353ca20",
   "metadata": {},
   "outputs": [],
   "source": [
    "import pandas as pd\n",
    "import numpy as np\n",
    "import tensorflow as tf\n",
    "from datetime import datetime\n",
    "import gpflow\n",
    "from gpflow.utilities import set_trainable\n",
    "import time\n",
    "from tensorflow_probability import distributions as tfd\n",
    "from IPython.display import clear_output\n",
    "import matplotlib.pyplot as plt\n",
    "from sklearn.model_selection import train_test_split"
   ]
  },
  {
   "cell_type": "code",
   "execution_count": 44,
   "id": "5f1bea11",
   "metadata": {},
   "outputs": [],
   "source": [
    "df = pd.read_csv('data-warehouse-2021.csv')"
   ]
  },
  {
   "cell_type": "code",
   "execution_count": 52,
   "id": "ab815c38",
   "metadata": {},
   "outputs": [],
   "source": [
    "tmp = df[['timestamp','site_longitude', 'site_latitude', 'pm2_5']].dropna()\n",
    "tmp['pm2_5'] = pd.to_numeric(tmp['pm2_5'])\n",
    "tmp['timestamp'] = pd.to_datetime(tmp['timestamp'])\n",
    "tmp['new_time'] = tmp['timestamp'].apply(lambda x: datetime.timestamp(x))\n",
    "tmp['new_time'] = tmp['new_time'] - tmp['new_time'].min()\n",
    "tmp = tmp[tmp['pm2_5']<1000]"
   ]
  },
  {
   "cell_type": "code",
   "execution_count": 54,
   "id": "4207305b",
   "metadata": {},
   "outputs": [],
   "source": [
    "X = tmp[['new_time', 'site_longitude', 'site_latitude']].to_numpy()\n",
    "Y = tmp[['pm2_5']].to_numpy()\n",
    "del df\n",
    "del tmp"
   ]
  },
  {
   "cell_type": "code",
   "execution_count": 55,
   "id": "cfe1567e",
   "metadata": {},
   "outputs": [
    {
     "data": {
      "text/plain": [
       "((260147, 3), (65037, 3), (260147, 1), (65037, 1))"
      ]
     },
     "execution_count": 55,
     "metadata": {},
     "output_type": "execute_result"
    }
   ],
   "source": [
    "X_train, X_test, Y_train, Y_test = train_test_split(X, Y, test_size = 0.2)\n",
    "X_train.shape, X_test.shape, Y_train.shape, Y_test.shape"
   ]
  },
  {
   "cell_type": "code",
   "execution_count": 56,
   "id": "ef5ef386",
   "metadata": {},
   "outputs": [],
   "source": [
    "N = 10\n",
    "Z = X_train[np.linspace(0, X_train.shape[0] - 1, N, dtype = int), :].copy()"
   ]
  },
  {
   "cell_type": "code",
   "execution_count": 69,
   "id": "417cb15c",
   "metadata": {},
   "outputs": [
    {
     "data": {
      "text/plain": [
       "array([     0,  28905,  57810,  86715, 115620, 144525, 173430, 202335,\n",
       "       231240, 260146])"
      ]
     },
     "execution_count": 69,
     "metadata": {},
     "output_type": "execute_result"
    }
   ],
   "source": [
    "np.linspace(0, X_train.shape[0] - 1, N, dtype = int)"
   ]
  },
  {
   "cell_type": "code",
   "execution_count": 58,
   "id": "a97b42cf",
   "metadata": {},
   "outputs": [
    {
     "data": {
      "text/html": [
       "&lt;gpflow.models.svgp.SVGP object at 0x000002878AE5CDC0&gt;\n",
       "<table>\n",
       "<thead>\n",
       "<tr><th>name                                           </th><th>class    </th><th>transform       </th><th>prior  </th><th>trainable  </th><th>shape      </th><th>dtype  </th><th>value                                              </th></tr>\n",
       "</thead>\n",
       "<tbody>\n",
       "<tr><td>SVGP.kernel.kernels[0].base_kernel.variance    </td><td>Parameter</td><td>Softplus        </td><td>       </td><td>True       </td><td>()         </td><td>float64</td><td>0.9999999999999999                                 </td></tr>\n",
       "<tr><td>SVGP.kernel.kernels[0].base_kernel.lengthscales</td><td>Parameter</td><td>Softplus        </td><td>       </td><td>True       </td><td>()         </td><td>float64</td><td>0.9999999999999999                                 </td></tr>\n",
       "<tr><td>SVGP.kernel.kernels[0].period                  </td><td>Parameter</td><td>Softplus        </td><td>       </td><td>True       </td><td>()         </td><td>float64</td><td>0.9999999999999999                                 </td></tr>\n",
       "<tr><td>SVGP.kernel.kernels[1].variance                </td><td>Parameter</td><td>Softplus        </td><td>       </td><td>True       </td><td>()         </td><td>float64</td><td>0.9999999999999999                                 </td></tr>\n",
       "<tr><td>SVGP.likelihood.variance                       </td><td>Parameter</td><td>Softplus + Shift</td><td>       </td><td>True       </td><td>()         </td><td>float64</td><td>1.0                                                </td></tr>\n",
       "<tr><td>SVGP.inducing_variable.Z                       </td><td>Parameter</td><td>Identity        </td><td>       </td><td>True       </td><td>(10, 3)    </td><td>float64</td><td>[[6.70680000e+06, 3.25955484e+01, 3.19969600e-01...</td></tr>\n",
       "<tr><td>SVGP.q_mu                                      </td><td>Parameter</td><td>Identity        </td><td>       </td><td>True       </td><td>(10, 1)    </td><td>float64</td><td>[[0....                                            </td></tr>\n",
       "<tr><td>SVGP.q_sqrt                                    </td><td>Parameter</td><td>FillTriangular  </td><td>       </td><td>True       </td><td>(1, 10, 10)</td><td>float64</td><td>[[[1., 0., 0....                                   </td></tr>\n",
       "</tbody>\n",
       "</table>"
      ],
      "text/plain": [
       "<gpflow.models.svgp.SVGP object at 0x000002878AE5CDC0>\n",
       "╒═════════════════════════════════════════════════╤═══════════╤══════════════════╤═════════╤═════════════╤═════════════╤═════════╤═════════════════════════════════════════════════════╕\n",
       "│ name                                            │ class     │ transform        │ prior   │ trainable   │ shape       │ dtype   │ value                                               │\n",
       "╞═════════════════════════════════════════════════╪═══════════╪══════════════════╪═════════╪═════════════╪═════════════╪═════════╪═════════════════════════════════════════════════════╡\n",
       "│ SVGP.kernel.kernels[0].base_kernel.variance     │ Parameter │ Softplus         │         │ True        │ ()          │ float64 │ 0.9999999999999999                                  │\n",
       "├─────────────────────────────────────────────────┼───────────┼──────────────────┼─────────┼─────────────┼─────────────┼─────────┼─────────────────────────────────────────────────────┤\n",
       "│ SVGP.kernel.kernels[0].base_kernel.lengthscales │ Parameter │ Softplus         │         │ True        │ ()          │ float64 │ 0.9999999999999999                                  │\n",
       "├─────────────────────────────────────────────────┼───────────┼──────────────────┼─────────┼─────────────┼─────────────┼─────────┼─────────────────────────────────────────────────────┤\n",
       "│ SVGP.kernel.kernels[0].period                   │ Parameter │ Softplus         │         │ True        │ ()          │ float64 │ 0.9999999999999999                                  │\n",
       "├─────────────────────────────────────────────────┼───────────┼──────────────────┼─────────┼─────────────┼─────────────┼─────────┼─────────────────────────────────────────────────────┤\n",
       "│ SVGP.kernel.kernels[1].variance                 │ Parameter │ Softplus         │         │ True        │ ()          │ float64 │ 0.9999999999999999                                  │\n",
       "├─────────────────────────────────────────────────┼───────────┼──────────────────┼─────────┼─────────────┼─────────────┼─────────┼─────────────────────────────────────────────────────┤\n",
       "│ SVGP.likelihood.variance                        │ Parameter │ Softplus + Shift │         │ True        │ ()          │ float64 │ 1.0                                                 │\n",
       "├─────────────────────────────────────────────────┼───────────┼──────────────────┼─────────┼─────────────┼─────────────┼─────────┼─────────────────────────────────────────────────────┤\n",
       "│ SVGP.inducing_variable.Z                        │ Parameter │ Identity         │         │ True        │ (10, 3)     │ float64 │ [[6.70680000e+06, 3.25955484e+01, 3.19969600e-01... │\n",
       "├─────────────────────────────────────────────────┼───────────┼──────────────────┼─────────┼─────────────┼─────────────┼─────────┼─────────────────────────────────────────────────────┤\n",
       "│ SVGP.q_mu                                       │ Parameter │ Identity         │         │ True        │ (10, 1)     │ float64 │ [[0....                                             │\n",
       "├─────────────────────────────────────────────────┼───────────┼──────────────────┼─────────┼─────────────┼─────────────┼─────────┼─────────────────────────────────────────────────────┤\n",
       "│ SVGP.q_sqrt                                     │ Parameter │ FillTriangular   │         │ True        │ (1, 10, 10) │ float64 │ [[[1., 0., 0....                                    │\n",
       "╘═════════════════════════════════════════════════╧═══════════╧══════════════════╧═════════╧═════════════╧═════════════╧═════════╧═════════════════════════════════════════════════════╛"
      ]
     },
     "execution_count": 58,
     "metadata": {},
     "output_type": "execute_result"
    }
   ],
   "source": [
    "kernel = (\n",
    "    gpflow.kernels.Periodic(base_kernel=gpflow.kernels.RBF()) *\n",
    "    gpflow.kernels.Periodic(base_kernel=gpflow.kernels.RBF())\n",
    ")\n",
    "model = gpflow.models.SVGP(\n",
    "    kernel=gpflow.kernels.Periodic(base_kernel=gpflow.kernels.RBF())+gpflow.kernels.Bias(), \n",
    "    inducing_variable=Z, \n",
    "    likelihood = gpflow.likelihoods.Gaussian()\n",
    ")\n",
    "model"
   ]
  },
  {
   "cell_type": "code",
   "execution_count": 59,
   "id": "b8f0c0e6",
   "metadata": {},
   "outputs": [],
   "source": [
    "class Trainer():\n",
    "    '''Trainer class for GPFlow SVGP model'''\n",
    "    \n",
    "    def __init__(self, \n",
    "                 model, \n",
    "                 data, \n",
    "                 optimizer=tf.optimizers.Adam()):\n",
    "        '''\n",
    "        Initialise trainer class\n",
    "        \n",
    "        arguments:\n",
    "        model - GPFlow SVGP model\n",
    "        data - tuple, (X,Y) where X are observed input and Y are observed outputs\n",
    "        optimizer - optional, tf.optimizer object, default is adam\n",
    "        '''\n",
    "        \n",
    "        self.model = model\n",
    "        self.data = data\n",
    "        self.model_optimizer = optimizer   \n",
    "   \n",
    "    def get_KL(self):\n",
    "        '''\n",
    "        Compare KL divergence between prior and posterior distributions\n",
    "        \n",
    "        return:\n",
    "        KL - Tensor of KL divergence \n",
    "        '''\n",
    "        \n",
    "        #get cholesky decomposition of covariance matrix conditioned on inducing points\n",
    "        Z = self.model.inducing_variable.Z\n",
    "        K = self.model.kernel(Z)\n",
    "        K = tf.linalg.cholesky(K+0.005*tf.eye(K.shape[0], dtype='float64'))\n",
    "        #calculate KL divergence\n",
    "        pu = tfd.MultivariateNormalTriL(scale_tril=K)\n",
    "        qu = tfd.MultivariateNormalTriL(self.model.q_mu[:,0],self.model.q_sqrt)        \n",
    "        KL = tfd.kl_divergence(qu,pu)\n",
    "\n",
    "        return KL\n",
    "      \n",
    "    def elbo(self):\n",
    "        '''\n",
    "        Get Evidence Based Lower Bound (ELBO) for training data\n",
    "        \n",
    "        return:\n",
    "        elbo - Tensor of ELBO for model given (X,Y)\n",
    "        '''\n",
    "    \n",
    "        X, Y = self.data\n",
    "        kl = self.get_KL()\n",
    "      \n",
    "        #predict Ypred for given X\n",
    "        f_mean, f_var = self.model.predict_f(X)\n",
    "        #get variational expectation for Ypred given Y\n",
    "        var_exp = self.model.likelihood.variational_expectations(f_mean, f_var, Y)       \n",
    "        var_exp = tf.reduce_sum(var_exp)        \n",
    "        #compute elbo, return negative ELBO to minimize\n",
    "        elbo = var_exp - kl\n",
    "        elbo = -1*elbo\n",
    "\n",
    "        return elbo\n",
    "    \n",
    "    @tf.function\n",
    "    def optimization_step(self):\n",
    "        '''\n",
    "        Calculate gradients and optimize model, uses tf.function to pass function as a graph\n",
    "        \n",
    "        return:\n",
    "        loss - Tensor of ELBO for model given (X,Y)\n",
    "        '''\n",
    "        \n",
    "        #disables training of inducing points\n",
    "        \n",
    "        #optimize hyperparameters given model loss for this training step\n",
    "        self.model_optimizer.minimize(self.elbo, self.model.trainable_variables)\n",
    "        loss = -1*self.elbo()\n",
    "        \n",
    "        return loss\n",
    "        \n",
    "    def train_model(self, iterations, with_output=True):\n",
    "        '''\n",
    "        Train model and log model losses\n",
    "        \n",
    "        arguments:\n",
    "        iterations - number of training iterations, the optimization step is called once per iteration\n",
    "        with_output - optional, if True will print information at each logging step\n",
    "        \n",
    "        returns:\n",
    "        model_loss - returns np array of size \n",
    "        '''\n",
    "        \n",
    "        #initialise array to log model losses\n",
    "        self.model_loss = np.array([])\n",
    "        #fix inducing points\n",
    "        set_trainable(self.model.inducing_variable, False)\n",
    "        #loop optimization step and log losses, if with_output is true, record time and pass to logging func        \n",
    "        if with_output:\n",
    "            tic = time.perf_counter()        \n",
    "        for step in range(iterations):\n",
    "            #train inducing locations every 200 steps\n",
    "            if step % 200 == 0:\n",
    "                set_trainable(self.model.inducing_variable, True)\n",
    "                loss = self.optimization_step()\n",
    "                set_trainable(self.model.inducing_variable, False)\n",
    "            else:\n",
    "                loss = self.optimization_step()\n",
    "            #log losses every 100 iterations, pass time and step information if with_output is True\n",
    "            if step % 100 == 0:\n",
    "                if with_output:\n",
    "                    toc = time.perf_counter()\n",
    "                    self._log(step, loss, tic, toc, iterations)\n",
    "                else:\n",
    "                    self._log(step, loss)\n",
    "        #log final loss values\n",
    "        if with_output:\n",
    "            self._log((step+1), loss, tic, toc, iterations)\n",
    "        else:\n",
    "            self._log((step+1), loss)\n",
    "        #reshape array into expected output\n",
    "        model_loss = self.model_loss.reshape(-1,2)\n",
    "        \n",
    "        return model_loss\n",
    "                \n",
    "    def _log(self, step, loss, *args):\n",
    "        '''\n",
    "        Log model losses and print outputs if passed additional arguments\n",
    "        \n",
    "        arguments:\n",
    "        step - the current training iteration\n",
    "        loss - model loss at current iteration\n",
    "        *tic - optional, time at training start\n",
    "        *toc - optional, time at current iteration\n",
    "        *iterations - optional, maximum iterations for given loop\n",
    "        '''      \n",
    "        \n",
    "        #initialise logging parameters if passed\n",
    "        if args:\n",
    "            tic, toc, iterations = args\n",
    "        #for intial timestep, log loss and optionally print output \n",
    "        if step == 0:            \n",
    "            self.model_loss = np.append(self.model_loss, [step, loss.numpy().item()])\n",
    "            if args:\n",
    "                print(\"Starting training\")\n",
    "        #for each call, log the current model loss and optionally print output\n",
    "        else:\n",
    "            self.model_loss = np.append(self.model_loss, [step, loss.numpy().item()])\n",
    "            if args:\n",
    "                elapsed = toc-tic\n",
    "                periter = elapsed/step            \n",
    "                clear_output(wait=True)  \n",
    "                print(\"Iteration {}/{}, elapsed time: {:.2f} seconds, time per iteration: {:.3f} seconds\".format(step, \n",
    "                                                                                                             iterations, \n",
    "                                                                                                             elapsed, \n",
    "                                                                                                             periter))        "
   ]
  },
  {
   "cell_type": "code",
   "execution_count": 60,
   "id": "9cb0917e",
   "metadata": {},
   "outputs": [],
   "source": [
    "trainer = Trainer(model,(X_train, Y_train))"
   ]
  },
  {
   "cell_type": "code",
   "execution_count": 61,
   "id": "53e61493",
   "metadata": {},
   "outputs": [
    {
     "name": "stdout",
     "output_type": "stream",
     "text": [
      "Iteration 1000/1000, elapsed time: 378.04 seconds, time per iteration: 0.378 seconds\n"
     ]
    }
   ],
   "source": [
    "with tf.device('/GPU:0'):\n",
    "    loss = trainer.train_model(1000, with_output = True)"
   ]
  },
  {
   "cell_type": "code",
   "execution_count": 62,
   "id": "545ed20c",
   "metadata": {},
   "outputs": [
    {
     "data": {
      "text/html": [
       "&lt;gpflow.models.svgp.SVGP object at 0x000002878AE5CDC0&gt;\n",
       "<table>\n",
       "<thead>\n",
       "<tr><th>name                                           </th><th>class    </th><th>transform       </th><th>prior  </th><th>trainable  </th><th>shape      </th><th>dtype  </th><th>value                                               </th></tr>\n",
       "</thead>\n",
       "<tbody>\n",
       "<tr><td>SVGP.kernel.kernels[0].base_kernel.variance    </td><td>Parameter</td><td>Softplus        </td><td>       </td><td>True       </td><td>()         </td><td>float64</td><td>2.1478843984739924                                  </td></tr>\n",
       "<tr><td>SVGP.kernel.kernels[0].base_kernel.lengthscales</td><td>Parameter</td><td>Softplus        </td><td>       </td><td>True       </td><td>()         </td><td>float64</td><td>0.8896603753993646                                  </td></tr>\n",
       "<tr><td>SVGP.kernel.kernels[0].period                  </td><td>Parameter</td><td>Softplus        </td><td>       </td><td>True       </td><td>()         </td><td>float64</td><td>0.9980279033532343                                  </td></tr>\n",
       "<tr><td>SVGP.kernel.kernels[1].variance                </td><td>Parameter</td><td>Softplus        </td><td>       </td><td>True       </td><td>()         </td><td>float64</td><td>2.1194158192003663                                  </td></tr>\n",
       "<tr><td>SVGP.likelihood.variance                       </td><td>Parameter</td><td>Softplus + Shift</td><td>       </td><td>True       </td><td>()         </td><td>float64</td><td>1.5896794603102748                                  </td></tr>\n",
       "<tr><td>SVGP.inducing_variable.Z                       </td><td>Parameter</td><td>Identity        </td><td>       </td><td>False      </td><td>(10, 3)    </td><td>float64</td><td>[[6.70680002e+06, 3.30688904e+01, -1.44295992e-01...</td></tr>\n",
       "<tr><td>SVGP.q_mu                                      </td><td>Parameter</td><td>Identity        </td><td>       </td><td>True       </td><td>(10, 1)    </td><td>float64</td><td>[[0.88270756...                                     </td></tr>\n",
       "<tr><td>SVGP.q_sqrt                                    </td><td>Parameter</td><td>FillTriangular  </td><td>       </td><td>True       </td><td>(1, 10, 10)</td><td>float64</td><td>[[[0.72974489, 0., 0....                            </td></tr>\n",
       "</tbody>\n",
       "</table>"
      ],
      "text/plain": [
       "<gpflow.models.svgp.SVGP object at 0x000002878AE5CDC0>\n",
       "╒═════════════════════════════════════════════════╤═══════════╤══════════════════╤═════════╤═════════════╤═════════════╤═════════╤══════════════════════════════════════════════════════╕\n",
       "│ name                                            │ class     │ transform        │ prior   │ trainable   │ shape       │ dtype   │ value                                                │\n",
       "╞═════════════════════════════════════════════════╪═══════════╪══════════════════╪═════════╪═════════════╪═════════════╪═════════╪══════════════════════════════════════════════════════╡\n",
       "│ SVGP.kernel.kernels[0].base_kernel.variance     │ Parameter │ Softplus         │         │ True        │ ()          │ float64 │ 2.1478843984739924                                   │\n",
       "├─────────────────────────────────────────────────┼───────────┼──────────────────┼─────────┼─────────────┼─────────────┼─────────┼──────────────────────────────────────────────────────┤\n",
       "│ SVGP.kernel.kernels[0].base_kernel.lengthscales │ Parameter │ Softplus         │         │ True        │ ()          │ float64 │ 0.8896603753993646                                   │\n",
       "├─────────────────────────────────────────────────┼───────────┼──────────────────┼─────────┼─────────────┼─────────────┼─────────┼──────────────────────────────────────────────────────┤\n",
       "│ SVGP.kernel.kernels[0].period                   │ Parameter │ Softplus         │         │ True        │ ()          │ float64 │ 0.9980279033532343                                   │\n",
       "├─────────────────────────────────────────────────┼───────────┼──────────────────┼─────────┼─────────────┼─────────────┼─────────┼──────────────────────────────────────────────────────┤\n",
       "│ SVGP.kernel.kernels[1].variance                 │ Parameter │ Softplus         │         │ True        │ ()          │ float64 │ 2.1194158192003663                                   │\n",
       "├─────────────────────────────────────────────────┼───────────┼──────────────────┼─────────┼─────────────┼─────────────┼─────────┼──────────────────────────────────────────────────────┤\n",
       "│ SVGP.likelihood.variance                        │ Parameter │ Softplus + Shift │         │ True        │ ()          │ float64 │ 1.5896794603102748                                   │\n",
       "├─────────────────────────────────────────────────┼───────────┼──────────────────┼─────────┼─────────────┼─────────────┼─────────┼──────────────────────────────────────────────────────┤\n",
       "│ SVGP.inducing_variable.Z                        │ Parameter │ Identity         │         │ False       │ (10, 3)     │ float64 │ [[6.70680002e+06, 3.30688904e+01, -1.44295992e-01... │\n",
       "├─────────────────────────────────────────────────┼───────────┼──────────────────┼─────────┼─────────────┼─────────────┼─────────┼──────────────────────────────────────────────────────┤\n",
       "│ SVGP.q_mu                                       │ Parameter │ Identity         │         │ True        │ (10, 1)     │ float64 │ [[0.88270756...                                      │\n",
       "├─────────────────────────────────────────────────┼───────────┼──────────────────┼─────────┼─────────────┼─────────────┼─────────┼──────────────────────────────────────────────────────┤\n",
       "│ SVGP.q_sqrt                                     │ Parameter │ FillTriangular   │         │ True        │ (1, 10, 10) │ float64 │ [[[0.72974489, 0., 0....                             │\n",
       "╘═════════════════════════════════════════════════╧═══════════╧══════════════════╧═════════╧═════════════╧═════════════╧═════════╧══════════════════════════════════════════════════════╛"
      ]
     },
     "execution_count": 62,
     "metadata": {},
     "output_type": "execute_result"
    }
   ],
   "source": [
    "model"
   ]
  },
  {
   "cell_type": "code",
   "execution_count": 66,
   "id": "efb44e85",
   "metadata": {},
   "outputs": [
    {
     "data": {
      "text/plain": [
       "[<matplotlib.lines.Line2D at 0x28806c6a550>]"
      ]
     },
     "execution_count": 66,
     "metadata": {},
     "output_type": "execute_result"
    },
    {
     "data": {
      "image/png": "[encoded data removed]",
      "text/plain": [
       "<Figure size 432x288 with 1 Axes>"
      ]
     },
     "metadata": {
      "needs_background": "light"
     },
     "output_type": "display_data"
    }
   ],
   "source": [
    "plt.plot(loss[:,0],loss[:,1])"
   ]
  },
  {
   "cell_type": "code",
   "execution_count": 22,
   "id": "3fab6db3",
   "metadata": {},
   "outputs": [
    {
     "data": {
      "text/plain": [
       "(<tf.Tensor: shape=(65223, 1), dtype=float64, numpy=\n",
       " array([[4.91627399],\n",
       "        [5.21653225],\n",
       "        [5.80447775],\n",
       "        ...,\n",
       "        [5.83756566],\n",
       "        [5.23130235],\n",
       "        [5.51942376]])>,\n",
       " <tf.Tensor: shape=(65223, 1), dtype=float64, numpy=\n",
       " array([[2.65170298],\n",
       "        [2.35830986],\n",
       "        [2.02669648],\n",
       "        ...,\n",
       "        [1.94638983],\n",
       "        [2.1176995 ],\n",
       "        [1.95582585]])>)"
      ]
     },
     "execution_count": 22,
     "metadata": {},
     "output_type": "execute_result"
    }
   ],
   "source": [
    "model.predict_y(X_test)"
   ]
  },
  {
   "cell_type": "code",
   "execution_count": 16,
   "id": "174f4a48",
   "metadata": {},
   "outputs": [],
   "source": [
    "rmse = tf.keras.metrics.RootMeanSquaredError()"
   ]
  },
  {
   "cell_type": "code",
   "execution_count": 63,
   "id": "24be1434",
   "metadata": {},
   "outputs": [
    {
     "data": {
      "text/plain": [
       "147.5652"
      ]
     },
     "execution_count": 63,
     "metadata": {},
     "output_type": "execute_result"
    }
   ],
   "source": [
    "rmse(model.predict_y(X_test)[0], Y_test).numpy()"
   ]
  },
  {
   "cell_type": "code",
   "execution_count": 64,
   "id": "e50a3ca7",
   "metadata": {},
   "outputs": [
    {
     "ename": "ValueError",
     "evalue": "x and y must have same first dimension, but have shapes (3,) and (65037, 1)",
     "output_type": "error",
     "traceback": [
      "\u001b[1;31m---------------------------------------------------------------------------\u001b[0m",
      "\u001b[1;31mValueError\u001b[0m                                Traceback (most recent call last)",
      "\u001b[1;32m~\\AppData\\Local\\Temp/ipykernel_20856/1555674124.py\u001b[0m in \u001b[0;36m<module>\u001b[1;34m\u001b[0m\n\u001b[1;32m----> 1\u001b[1;33m \u001b[0mplt\u001b[0m\u001b[1;33m.\u001b[0m\u001b[0mplot\u001b[0m\u001b[1;33m(\u001b[0m\u001b[0mX_test\u001b[0m\u001b[1;33m[\u001b[0m\u001b[1;36m0\u001b[0m\u001b[1;33m]\u001b[0m\u001b[1;33m,\u001b[0m \u001b[0mY_test\u001b[0m\u001b[1;33m)\u001b[0m\u001b[1;33m\u001b[0m\u001b[1;33m\u001b[0m\u001b[0m\n\u001b[0m",
      "\u001b[1;32m~\\Miniconda3\\envs\\spike-detection\\lib\\site-packages\\matplotlib\\pyplot.py\u001b[0m in \u001b[0;36mplot\u001b[1;34m(scalex, scaley, data, *args, **kwargs)\u001b[0m\n\u001b[0;32m   3017\u001b[0m \u001b[1;33m@\u001b[0m\u001b[0m_copy_docstring_and_deprecators\u001b[0m\u001b[1;33m(\u001b[0m\u001b[0mAxes\u001b[0m\u001b[1;33m.\u001b[0m\u001b[0mplot\u001b[0m\u001b[1;33m)\u001b[0m\u001b[1;33m\u001b[0m\u001b[1;33m\u001b[0m\u001b[0m\n\u001b[0;32m   3018\u001b[0m \u001b[1;32mdef\u001b[0m \u001b[0mplot\u001b[0m\u001b[1;33m(\u001b[0m\u001b[1;33m*\u001b[0m\u001b[0margs\u001b[0m\u001b[1;33m,\u001b[0m \u001b[0mscalex\u001b[0m\u001b[1;33m=\u001b[0m\u001b[1;32mTrue\u001b[0m\u001b[1;33m,\u001b[0m \u001b[0mscaley\u001b[0m\u001b[1;33m=\u001b[0m\u001b[1;32mTrue\u001b[0m\u001b[1;33m,\u001b[0m \u001b[0mdata\u001b[0m\u001b[1;33m=\u001b[0m\u001b[1;32mNone\u001b[0m\u001b[1;33m,\u001b[0m \u001b[1;33m**\u001b[0m\u001b[0mkwargs\u001b[0m\u001b[1;33m)\u001b[0m\u001b[1;33m:\u001b[0m\u001b[1;33m\u001b[0m\u001b[1;33m\u001b[0m\u001b[0m\n\u001b[1;32m-> 3019\u001b[1;33m     return gca().plot(\n\u001b[0m\u001b[0;32m   3020\u001b[0m         \u001b[1;33m*\u001b[0m\u001b[0margs\u001b[0m\u001b[1;33m,\u001b[0m \u001b[0mscalex\u001b[0m\u001b[1;33m=\u001b[0m\u001b[0mscalex\u001b[0m\u001b[1;33m,\u001b[0m \u001b[0mscaley\u001b[0m\u001b[1;33m=\u001b[0m\u001b[0mscaley\u001b[0m\u001b[1;33m,\u001b[0m\u001b[1;33m\u001b[0m\u001b[1;33m\u001b[0m\u001b[0m\n\u001b[0;32m   3021\u001b[0m         **({\"data\": data} if data is not None else {}), **kwargs)\n",
      "\u001b[1;32m~\\Miniconda3\\envs\\spike-detection\\lib\\site-packages\\matplotlib\\axes\\_axes.py\u001b[0m in \u001b[0;36mplot\u001b[1;34m(self, scalex, scaley, data, *args, **kwargs)\u001b[0m\n\u001b[0;32m   1603\u001b[0m         \"\"\"\n\u001b[0;32m   1604\u001b[0m         \u001b[0mkwargs\u001b[0m \u001b[1;33m=\u001b[0m \u001b[0mcbook\u001b[0m\u001b[1;33m.\u001b[0m\u001b[0mnormalize_kwargs\u001b[0m\u001b[1;33m(\u001b[0m\u001b[0mkwargs\u001b[0m\u001b[1;33m,\u001b[0m \u001b[0mmlines\u001b[0m\u001b[1;33m.\u001b[0m\u001b[0mLine2D\u001b[0m\u001b[1;33m)\u001b[0m\u001b[1;33m\u001b[0m\u001b[1;33m\u001b[0m\u001b[0m\n\u001b[1;32m-> 1605\u001b[1;33m         \u001b[0mlines\u001b[0m \u001b[1;33m=\u001b[0m \u001b[1;33m[\u001b[0m\u001b[1;33m*\u001b[0m\u001b[0mself\u001b[0m\u001b[1;33m.\u001b[0m\u001b[0m_get_lines\u001b[0m\u001b[1;33m(\u001b[0m\u001b[1;33m*\u001b[0m\u001b[0margs\u001b[0m\u001b[1;33m,\u001b[0m \u001b[0mdata\u001b[0m\u001b[1;33m=\u001b[0m\u001b[0mdata\u001b[0m\u001b[1;33m,\u001b[0m \u001b[1;33m**\u001b[0m\u001b[0mkwargs\u001b[0m\u001b[1;33m)\u001b[0m\u001b[1;33m]\u001b[0m\u001b[1;33m\u001b[0m\u001b[1;33m\u001b[0m\u001b[0m\n\u001b[0m\u001b[0;32m   1606\u001b[0m         \u001b[1;32mfor\u001b[0m \u001b[0mline\u001b[0m \u001b[1;32min\u001b[0m \u001b[0mlines\u001b[0m\u001b[1;33m:\u001b[0m\u001b[1;33m\u001b[0m\u001b[1;33m\u001b[0m\u001b[0m\n\u001b[0;32m   1607\u001b[0m             \u001b[0mself\u001b[0m\u001b[1;33m.\u001b[0m\u001b[0madd_line\u001b[0m\u001b[1;33m(\u001b[0m\u001b[0mline\u001b[0m\u001b[1;33m)\u001b[0m\u001b[1;33m\u001b[0m\u001b[1;33m\u001b[0m\u001b[0m\n",
      "\u001b[1;32m~\\Miniconda3\\envs\\spike-detection\\lib\\site-packages\\matplotlib\\axes\\_base.py\u001b[0m in \u001b[0;36m__call__\u001b[1;34m(self, data, *args, **kwargs)\u001b[0m\n\u001b[0;32m    313\u001b[0m                 \u001b[0mthis\u001b[0m \u001b[1;33m+=\u001b[0m \u001b[0margs\u001b[0m\u001b[1;33m[\u001b[0m\u001b[1;36m0\u001b[0m\u001b[1;33m]\u001b[0m\u001b[1;33m,\u001b[0m\u001b[1;33m\u001b[0m\u001b[1;33m\u001b[0m\u001b[0m\n\u001b[0;32m    314\u001b[0m                 \u001b[0margs\u001b[0m \u001b[1;33m=\u001b[0m \u001b[0margs\u001b[0m\u001b[1;33m[\u001b[0m\u001b[1;36m1\u001b[0m\u001b[1;33m:\u001b[0m\u001b[1;33m]\u001b[0m\u001b[1;33m\u001b[0m\u001b[1;33m\u001b[0m\u001b[0m\n\u001b[1;32m--> 315\u001b[1;33m             \u001b[1;32myield\u001b[0m \u001b[1;32mfrom\u001b[0m \u001b[0mself\u001b[0m\u001b[1;33m.\u001b[0m\u001b[0m_plot_args\u001b[0m\u001b[1;33m(\u001b[0m\u001b[0mthis\u001b[0m\u001b[1;33m,\u001b[0m \u001b[0mkwargs\u001b[0m\u001b[1;33m)\u001b[0m\u001b[1;33m\u001b[0m\u001b[1;33m\u001b[0m\u001b[0m\n\u001b[0m\u001b[0;32m    316\u001b[0m \u001b[1;33m\u001b[0m\u001b[0m\n\u001b[0;32m    317\u001b[0m     \u001b[1;32mdef\u001b[0m \u001b[0mget_next_color\u001b[0m\u001b[1;33m(\u001b[0m\u001b[0mself\u001b[0m\u001b[1;33m)\u001b[0m\u001b[1;33m:\u001b[0m\u001b[1;33m\u001b[0m\u001b[1;33m\u001b[0m\u001b[0m\n",
      "\u001b[1;32m~\\Miniconda3\\envs\\spike-detection\\lib\\site-packages\\matplotlib\\axes\\_base.py\u001b[0m in \u001b[0;36m_plot_args\u001b[1;34m(self, tup, kwargs, return_kwargs)\u001b[0m\n\u001b[0;32m    499\u001b[0m \u001b[1;33m\u001b[0m\u001b[0m\n\u001b[0;32m    500\u001b[0m         \u001b[1;32mif\u001b[0m \u001b[0mx\u001b[0m\u001b[1;33m.\u001b[0m\u001b[0mshape\u001b[0m\u001b[1;33m[\u001b[0m\u001b[1;36m0\u001b[0m\u001b[1;33m]\u001b[0m \u001b[1;33m!=\u001b[0m \u001b[0my\u001b[0m\u001b[1;33m.\u001b[0m\u001b[0mshape\u001b[0m\u001b[1;33m[\u001b[0m\u001b[1;36m0\u001b[0m\u001b[1;33m]\u001b[0m\u001b[1;33m:\u001b[0m\u001b[1;33m\u001b[0m\u001b[1;33m\u001b[0m\u001b[0m\n\u001b[1;32m--> 501\u001b[1;33m             raise ValueError(f\"x and y must have same first dimension, but \"\n\u001b[0m\u001b[0;32m    502\u001b[0m                              f\"have shapes {x.shape} and {y.shape}\")\n\u001b[0;32m    503\u001b[0m         \u001b[1;32mif\u001b[0m \u001b[0mx\u001b[0m\u001b[1;33m.\u001b[0m\u001b[0mndim\u001b[0m \u001b[1;33m>\u001b[0m \u001b[1;36m2\u001b[0m \u001b[1;32mor\u001b[0m \u001b[0my\u001b[0m\u001b[1;33m.\u001b[0m\u001b[0mndim\u001b[0m \u001b[1;33m>\u001b[0m \u001b[1;36m2\u001b[0m\u001b[1;33m:\u001b[0m\u001b[1;33m\u001b[0m\u001b[1;33m\u001b[0m\u001b[0m\n",
      "\u001b[1;31mValueError\u001b[0m: x and y must have same first dimension, but have shapes (3,) and (65037, 1)"
     ]
    },
    {
     "data": {
      "image/png": "[encoded data removed]",
      "text/plain": [
       "<Figure size 432x288 with 1 Axes>"
      ]
     },
     "metadata": {
      "needs_background": "light"
     },
     "output_type": "display_data"
    }
   ],
   "source": [
    "plt.plot(X_test[0], Y_test)"
   ]
  },
  {
   "cell_type": "code",
   "execution_count": 65,
   "id": "5e1cf9c5",
   "metadata": {},
   "outputs": [
    {
     "data": {
      "text/plain": [
       "<matplotlib.collections.PathCollection at 0x2878ace5d60>"
      ]
     },
     "execution_count": 65,
     "metadata": {},
     "output_type": "execute_result"
    },
    {
     "data": {
      "image/png": "[encoded data removed]",
      "text/plain": [
       "<Figure size 432x288 with 1 Axes>"
      ]
     },
     "metadata": {
      "needs_background": "light"
     },
     "output_type": "display_data"
    }
   ],
   "source": [
    "plt.scatter(X_test[:,0][:,None], Y_test)"
   ]
  },
  {
   "cell_type": "code",
   "execution_count": 67,
   "id": "f1843046",
   "metadata": {},
   "outputs": [
    {
     "data": {
      "text/plain": [
       "array([[36.83  ],\n",
       "       [78.8368],\n",
       "       [39.97  ],\n",
       "       ...,\n",
       "       [47.74  ],\n",
       "       [36.4695],\n",
       "       [97.0274]])"
      ]
     },
     "execution_count": 67,
     "metadata": {},
     "output_type": "execute_result"
    }
   ],
   "source": [
    "Y_test"
   ]
  },
  {
   "cell_type": "code",
   "execution_count": null,
   "id": "3bd72a96",
   "metadata": {},
   "outputs": [],
   "source": []
  }
 ],
 "metadata": {
  "kernelspec": {
   "display_name": "Python 3",
   "language": "python",
   "name": "python3"
  },
  "language_info": {
   "codemirror_mode": {
    "name": "ipython",
    "version": 3
   },
   "file_extension": ".py",
   "mimetype": "text/x-python",
   "name": "python",
   "nbconvert_exporter": "python",
   "pygments_lexer": "ipython3",
   "version": "3.8.5"
  }
 },
 "nbformat": 4,
 "nbformat_minor": 5
}
